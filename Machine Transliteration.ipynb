{
 "cells": [
  {
   "cell_type": "code",
   "execution_count": 1,
   "metadata": {},
   "outputs": [
    {
     "name": "stderr",
     "output_type": "stream",
     "text": [
      "C:\\Users\\Deovrat\\Anaconda3\\lib\\site-packages\\h5py\\__init__.py:36: FutureWarning: Conversion of the second argument of issubdtype from `float` to `np.floating` is deprecated. In future, it will be treated as `np.float64 == np.dtype(float).type`.\n",
      "  from ._conv import register_converters as _register_converters\n"
     ]
    }
   ],
   "source": [
    "import os\n",
    "import pickle\n",
    "import copy\n",
    "import numpy as np\n",
    "import pandas as pd\n",
    "import random\n",
    "import string\n",
    "import tensorflow as tf\n",
    "import matplotlib.pyplot as plt"
   ]
  },
  {
   "cell_type": "code",
   "execution_count": null,
   "metadata": {},
   "outputs": [],
   "source": []
  },
  {
   "cell_type": "code",
   "execution_count": null,
   "metadata": {},
   "outputs": [],
   "source": [
    "import argparse\n",
    "parser = argparse.ArgumentParser()\n",
    "parser.add_argument('--lr', default=0.001, type=float, help='Learning rate for training')\n",
    "parser.add_argument('--batch_size', default=100, type=int, help='size of Mini-batches')\n",
    "parser.add_argument('--epochs', default=50, type=int, help='Number of epochs')\n",
    "parser.add_argument('--init',default=1, type=int,help='the initialization method to be used - 1 for Xavier, 2 for He')\n",
    "parser.add_argument('--save_dir',default='PA2Data/save_dir', type=str,help='folder where weights need to be saved')\n",
    "parser.add_argument('--dropout_prob',default=0.4,type=float, help = 'Probab of keeping in Dropout')\n",
    "parser.add_argument('--decode_method',default=0,type=float, help = 'Decode method')\n",
    "parser.add_argument('--beam_width',default=1,type=int, help = 'Beam_width')\n",
    "parser.add_argument('--train', default='PA2Data/train.csv', type=str, help='Path of the training data')\n",
    "parser.add_argument('--val', default='PA2Data/valid.csv', type=str, help='Path of the validation data')\n",
    "args = parser.parse_args()\n",
    "\n",
    "learning_rate = args.lr\n",
    "batch_size = args.batch_size\n",
    "init1 = args.init\n",
    "epochs = args.epochs\n",
    "keep_probability = args.dropout_prob\n",
    "save_dir = str(args.save_dir)\n",
    "train_path = str(args.train)\n",
    "valid_path = str(args.val)\n",
    "\n"
   ]
  },
  {
   "cell_type": "code",
   "execution_count": 3,
   "metadata": {},
   "outputs": [],
   "source": [
    "data_train = pd.read_csv(train_path)\n",
    "X = data_train.drop([\"id\"],axis=1).values\n",
    "m = X.shape[0]\n",
    "X_train = X\n",
    "#for i in range(X.shape[0]):\n",
    " #   X_train[i][0] = X[i][0].replace(' ','')\n",
    "  #  X_train[i][1] = X[i][1].replace(' ','')\n",
    "\n",
    "\n",
    "data_valid = pd.read_csv(valid_path)\n",
    "X = data_valid.drop([\"id\"],axis=1).values\n",
    "m = X.shape[0]\n",
    "X_valid = X\n",
    "#for i in range(X.shape[0]):\n",
    "#    X_valid[i][0] = X[i][0].replace(' ','')\n",
    " #   X_valid[i][1] = X[i][1].replace(' ','')\n",
    "    \n",
    "data_test = pd.read_csv(test_path)\n",
    "X = data_test.drop([\"id\"],axis=1).values\n",
    "m = X.shape[0]\n",
    "X_test = X\n",
    "#for i in range(X.shape[0]):\n",
    "#    X_test[i][0] = X[i][0].replace(' ','')"
   ]
  },
  {
   "cell_type": "code",
   "execution_count": 4,
   "metadata": {},
   "outputs": [
    {
     "data": {
      "text/plain": [
       "(1000, 1)"
      ]
     },
     "execution_count": 4,
     "metadata": {},
     "output_type": "execute_result"
    }
   ],
   "source": [
    "X_test.shape"
   ]
  },
  {
   "cell_type": "code",
   "execution_count": 5,
   "metadata": {},
   "outputs": [
    {
     "name": "stdout",
     "output_type": "stream",
     "text": [
      "121\n",
      "123\n"
     ]
    }
   ],
   "source": [
    "list1 = []\n",
    "list2 = []\n",
    "for c in range(X_train.shape[0]):\n",
    "    list1.append(len(X_train[c][0]))\n",
    "    list2.append(len(X_train[c][1]))\n",
    "X_MAX_LENGTH = max(list1)\n",
    "Y_MAX_LENGTH = max(list2)\n",
    "print(X_MAX_LENGTH)\n",
    "print(Y_MAX_LENGTH)"
   ]
  },
  {
   "cell_type": "code",
   "execution_count": 6,
   "metadata": {},
   "outputs": [],
   "source": [
    "english_char_list = []\n",
    "hindi_char_list = []\n",
    "for i in range(X_train.shape[0]):\n",
    "    english_char_list.extend(list(X_train[i][0]))\n",
    "    hindi_char_list.extend(list(X_train[i][1]))\n",
    "english_vocab = list(set(english_char_list+ ['<UNK>']+ ['<GO>']+ ['<EOS>']+ ['<PAD>']))\n",
    "hindi_vocab = list(set(hindi_char_list+ ['<UNK>']+ ['<GO>']+ ['<EOS>']+ ['<PAD>']))"
   ]
  },
  {
   "cell_type": "code",
   "execution_count": 7,
   "metadata": {},
   "outputs": [],
   "source": [
    "vocab = list(set(english_vocab + hindi_vocab + []))"
   ]
  },
  {
   "cell_type": "code",
   "execution_count": 8,
   "metadata": {},
   "outputs": [],
   "source": [
    "x_idx_to_word = [word for idx, word in enumerate(english_vocab)]\n",
    "\n",
    "\n",
    "y_idx_to_word = [word for idx, word in enumerate(hindi_vocab)]\n",
    "\n",
    "\n",
    "x_word_to_idx = {word:ix for ix, word in enumerate(x_idx_to_word)}\n",
    "y_word_to_idx = {word: ix for ix, word in enumerate(y_idx_to_word)}"
   ]
  },
  {
   "cell_type": "code",
   "execution_count": 9,
   "metadata": {},
   "outputs": [],
   "source": [
    "\"\"\"\n",
    "    1st, 2nd args: raw string text to be converted\n",
    "    3rd, 4th args: lookup tables for 1st and 2nd args respectively\n",
    "\n",
    "    return: A tuple of lists (source_id_text, target_id_text) converted\n",
    "\"\"\"\n",
    "# empty list of converted sentences\n",
    "source_text_id = []\n",
    "target_text_id = []\n",
    "source_text_id_valid = []\n",
    "target_text_id_valid = []\n",
    "\n",
    "# make a list of sentences (extraction)\n",
    "#source_ = source_text.split(\"\\n\")\n",
    "#target_sentences = target_text.split(\"\\n\")\n",
    "\n",
    "# iterating through each sentences (# of sentences in source&target is the same)\n",
    "for i in range(X_train.shape[0]):\n",
    "    # extract sentences one by one\n",
    "    source_word = X_train[i][0]\n",
    "    target_word = X_train[i][1]\n",
    "\n",
    "    # make a list of tokens/words (extraction) from the chosen sentence\n",
    "    source_tokens = source_word.split(\" \")\n",
    "    target_tokens = target_word.split(\" \")\n",
    "\n",
    "    # empty list of converted words to index in the chosen sentence\n",
    "    source_token_id = []\n",
    "    target_token_id = []\n",
    "\n",
    "    for index, token in enumerate(source_tokens):\n",
    "        if (token != \"\"):\n",
    "            source_token_id.append(x_word_to_idx[token])\n",
    "\n",
    "    for index, token in enumerate(target_tokens):\n",
    "        if (token != \"\"):\n",
    "            target_token_id.append(y_word_to_idx[token])\n",
    "\n",
    "    # put <EOS> token at the end of the chosen target sentence\n",
    "    # this token suggests when to stop creating a sequence\n",
    "    target_token_id.append(y_word_to_idx['<EOS>'])\n",
    "\n",
    "    # add each converted sentences in the final list\n",
    "    source_text_id.append(source_token_id)\n",
    "    target_text_id.append(target_token_id)\n",
    "\n",
    "for i in range(X_valid.shape[0]):\n",
    "    # extract sentences one by one\n",
    "    source_word_valid = X_valid[i][0]\n",
    "    target_word_valid = X_valid[i][1]\n",
    "\n",
    "    # make a list of tokens/words (extraction) from the chosen sentence\n",
    "    source_tokens_valid = source_word_valid.split(\" \")\n",
    "    target_tokens_valid = target_word_valid.split(\" \")\n",
    "\n",
    "    # empty list of converted words to index in the chosen sentence\n",
    "    source_token_id_valid = []\n",
    "    target_token_id_valid = []\n",
    "\n",
    "    for index, token in enumerate(source_tokens_valid):\n",
    "        if (token != \"\"):\n",
    "            source_token_id_valid.append(x_word_to_idx[token])\n",
    "\n",
    "    for index, token in enumerate(target_tokens_valid):\n",
    "        if (token != \"\"):\n",
    "            target_token_id_valid.append(y_word_to_idx[token])\n",
    "\n",
    "    # put <EOS> token at the end of the chosen target sentence\n",
    "    # this token suggests when to stop creating a sequence\n",
    "    target_token_id_valid.append(y_word_to_idx['<EOS>'])\n",
    "\n",
    "    # add each converted sentences in the final list\n",
    "    source_text_id_valid.append(source_token_id_valid)\n",
    "    target_text_id_valid.append(target_token_id_valid)"
   ]
  },
  {
   "cell_type": "code",
   "execution_count": 10,
   "metadata": {},
   "outputs": [],
   "source": [
    "source_text_id_test = []\n",
    "for i in range(X_test.shape[0]):\n",
    "    # extract sentences one by one\n",
    "    source_word_test = X_test[i][0]\n",
    "\n",
    "    # make a list of tokens/words (extraction) from the chosen sentence\n",
    "    source_tokens_test = source_word_test.split(\" \")\n",
    "\n",
    "    # empty list of converted words to index in the chosen sentence\n",
    "    source_token_id_test = []\n",
    "\n",
    "    for index, token in enumerate(source_tokens_test):\n",
    "        if (token != \"\"):\n",
    "            if token in source_tokens:\n",
    "                source_token_id_test.append(x_word_to_idx[token])\n",
    "            else:\n",
    "                source_token_id_test.append(x_word_to_idx['<UNK>'])\n",
    "\n",
    "    # add each converted sentences in the final list\n",
    "    source_text_id_test.append(source_token_id_test)\n"
   ]
  },
  {
   "cell_type": "code",
   "execution_count": 11,
   "metadata": {},
   "outputs": [
    {
     "data": {
      "text/plain": [
       "[7, 7, 17, 13, 35]"
      ]
     },
     "execution_count": 11,
     "metadata": {},
     "output_type": "execute_result"
    }
   ],
   "source": [
    "np.array(source_text_id_test)[0]\n"
   ]
  },
  {
   "cell_type": "code",
   "execution_count": 12,
   "metadata": {},
   "outputs": [],
   "source": [
    "# Save data for later use\n",
    "pickle.dump((\n",
    "    (source_text_id, target_text_id),\n",
    "    (x_word_to_idx, y_word_to_idx),\n",
    "    (x_idx_to_word, y_idx_to_word)), open('preprocess.p', 'wb'))"
   ]
  },
  {
   "cell_type": "code",
   "execution_count": 13,
   "metadata": {},
   "outputs": [],
   "source": [
    "import pickle\n",
    "\n",
    "def load_preprocess():\n",
    "    with open('preprocess.p', mode='rb') as in_file:\n",
    "        return pickle.load(in_file)"
   ]
  },
  {
   "cell_type": "code",
   "execution_count": 14,
   "metadata": {},
   "outputs": [],
   "source": [
    "import numpy as np\n",
    "\n",
    "(source_text_id, target_text_id), (x_word_to_idx, y_word_to_idx), (x_idx_to_word, y_idx_to_word) = load_preprocess()"
   ]
  },
  {
   "cell_type": "code",
   "execution_count": 15,
   "metadata": {},
   "outputs": [
    {
     "name": "stdout",
     "output_type": "stream",
     "text": [
      "TensorFlow Version: 1.12.0\n",
      "Default GPU Device: /device:GPU:0\n"
     ]
    }
   ],
   "source": [
    "from distutils.version import LooseVersion\n",
    "import warnings\n",
    "import tensorflow as tf\n",
    "from tensorflow.python.layers.core import Dense\n",
    "\n",
    "# Check TensorFlow Version\n",
    "assert LooseVersion(tf.__version__) >= LooseVersion('1.1'), 'Please use TensorFlow version 1.1 or newer'\n",
    "print('TensorFlow Version: {}'.format(tf.__version__))\n",
    "\n",
    "# Check for a GPU\n",
    "if not tf.test.gpu_device_name():\n",
    "    warnings.warn('No GPU found. Please use a GPU to train your neural network.')\n",
    "else:\n",
    "    print('Default GPU Device: {}'.format(tf.test.gpu_device_name()))"
   ]
  },
  {
   "cell_type": "code",
   "execution_count": 16,
   "metadata": {},
   "outputs": [],
   "source": [
    "def enc_dec_model_inputs():\n",
    "    inputs = tf.placeholder(tf.int32, [None, None], name='input')\n",
    "    targets = tf.placeholder(tf.int32, [None, None], name='targets') \n",
    "    \n",
    "    target_sequence_length = tf.placeholder(tf.int32, [None], name='target_sequence_length')\n",
    "    max_target_len = tf.reduce_max(target_sequence_length)    \n",
    "    \n",
    "    return inputs, targets, target_sequence_length, max_target_len"
   ]
  },
  {
   "cell_type": "code",
   "execution_count": 17,
   "metadata": {},
   "outputs": [],
   "source": [
    "def hyperparam_inputs():\n",
    "    lr_rate = tf.placeholder(tf.float32, name='lr_rate')\n",
    "    keep_prob = tf.placeholder(tf.float32, name='keep_prob')\n",
    "    \n",
    "    return lr_rate, keep_prob"
   ]
  },
  {
   "cell_type": "code",
   "execution_count": 18,
   "metadata": {},
   "outputs": [],
   "source": [
    "def process_decoder_input(target_data, target_vocab_to_int, batch_size):\n",
    "    \"\"\"\n",
    "    Preprocess target data for encoding\n",
    "    :return: Preprocessed target data\n",
    "    \"\"\"\n",
    "    # get '<GO>' id\n",
    "    go_id = target_vocab_to_int['<GO>']\n",
    "    \n",
    "    after_slice = tf.strided_slice(target_data, [0, 0], [batch_size, -1], [1, 1])\n",
    "    after_concat = tf.concat( [tf.fill([batch_size, 1], go_id), after_slice], 1)\n",
    "    \n",
    "    return after_concat"
   ]
  },
  {
   "cell_type": "code",
   "execution_count": 19,
   "metadata": {
    "scrolled": false
   },
   "outputs": [],
   "source": [
    "def encoding_layer(rnn_inputs, rnn_size, num_layers, keep_prob, \n",
    "                   source_vocab_size, \n",
    "                   encoding_embedding_size):\n",
    "    \"\"\"\n",
    "    :return: tuple (RNN output, RNN state)\n",
    "    \"\"\"\n",
    "    embed = tf.contrib.layers.embed_sequence(rnn_inputs, \n",
    "                                             vocab_size=source_vocab_size, \n",
    "                                             embed_dim=encoding_embedding_size)\n",
    "    \n",
    "    stacked_cells = tf.contrib.rnn.MultiRNNCell([tf.contrib.rnn.DropoutWrapper(tf.contrib.rnn.LSTMCell(rnn_size), keep_prob) for _ in range(num_layers)])\n",
    "    encoding_layer\n",
    "    outputs, state = tf.nn.dynamic_rnn(stacked_cells, \n",
    "                                       embed, \n",
    "                                       dtype=tf.float32)\n",
    "    return outputs, state"
   ]
  },
  {
   "cell_type": "code",
   "execution_count": 20,
   "metadata": {},
   "outputs": [],
   "source": [
    "def decoding_layer_train(encoder_state, dec_cell, dec_embed_input, \n",
    "                         target_sequence_length, max_summary_length, \n",
    "                         output_layer, keep_prob):\n",
    "    \"\"\"\n",
    "    Create a training process in decoding layer \n",
    "    :return: BasicDecoderOutput containing training logits and sample_id\n",
    "    \"\"\"\n",
    "    dec_cell = tf.contrib.rnn.DropoutWrapper(dec_cell, \n",
    "                                             output_keep_prob=keep_prob)\n",
    "    \n",
    "    # for only input layer\n",
    "    helper = tf.contrib.seq2seq.TrainingHelper(dec_embed_input, \n",
    "                                               target_sequence_length)\n",
    "    \n",
    "    decoder = tf.contrib.seq2seq.BasicDecoder(dec_cell, \n",
    "                                              helper, \n",
    "                                              encoder_state, \n",
    "                                              output_layer)\n",
    "\n",
    "    # unrolling the decoder layer\n",
    "    outputs, _, _ = tf.contrib.seq2seq.dynamic_decode(decoder, \n",
    "                                                      impute_finished=True, \n",
    "                                                      maximum_iterations=max_summary_length)\n",
    "    return outputs"
   ]
  },
  {
   "cell_type": "code",
   "execution_count": 21,
   "metadata": {
    "scrolled": true
   },
   "outputs": [],
   "source": [
    "def decoding_layer_infer(encoder_state, dec_cell, dec_embeddings, start_of_sequence_id,\n",
    "                         end_of_sequence_id, max_target_sequence_length,\n",
    "                         vocab_size, output_layer, batch_size, keep_prob):\n",
    "    \"\"\"\n",
    "    Create a inference process in decoding layer \n",
    "    :return: BasicDecoderOutput containing inference logits and sample_id\n",
    "    \"\"\"\n",
    "    dec_cell = tf.contrib.rnn.DropoutWrapper(dec_cell, \n",
    "                                             output_keep_prob=keep_prob)\n",
    "    \n",
    "    helper = tf.contrib.seq2seq.GreedyEmbeddingHelper(dec_embeddings, \n",
    "                                                      tf.fill([batch_size], start_of_sequence_id), \n",
    "                                                      end_of_sequence_id)\n",
    "    \n",
    "    decoder = tf.contrib.seq2seq.BasicDecoder(dec_cell, \n",
    "                                              helper, \n",
    "                                              encoder_state, \n",
    "                                              output_layer)\n",
    "    \n",
    "    outputs, _, _ = tf.contrib.seq2seq.dynamic_decode(decoder, \n",
    "                                                      impute_finished=True, \n",
    "                                                      maximum_iterations=max_target_sequence_length)\n",
    "    return outputs"
   ]
  },
  {
   "cell_type": "code",
   "execution_count": 22,
   "metadata": {},
   "outputs": [],
   "source": [
    "def decoding_layer(dec_input, encoder_state,\n",
    "                   target_sequence_length, max_target_sequence_length,\n",
    "                   rnn_size,\n",
    "                   num_layers, target_vocab_to_int, target_vocab_size,\n",
    "                   batch_size, keep_prob, decoding_embedding_size):\n",
    "    \"\"\"\n",
    "    Create decoding layer\n",
    "    :return: Tuple of (Training BasicDecoderOutput, Inference BasicDecoderOutput)\n",
    "    \"\"\"\n",
    "    target_vocab_size = len(target_vocab_to_int)\n",
    "    dec_embeddings = tf.Variable(tf.random_uniform([target_vocab_size, decoding_embedding_size]))\n",
    "    dec_embed_input = tf.nn.embedding_lookup(dec_embeddings, dec_input)\n",
    "    \n",
    "    cells = tf.contrib.rnn.MultiRNNCell([tf.contrib.rnn.LSTMCell(rnn_size) for _ in range(num_layers)])\n",
    "    \n",
    "    with tf.variable_scope(\"decode\"):\n",
    "        output_layer = tf.layers.Dense(target_vocab_size)\n",
    "        train_output = decoding_layer_train(encoder_state, \n",
    "                                            cells, \n",
    "                                            dec_embed_input, \n",
    "                                            target_sequence_length, \n",
    "                                            max_target_sequence_length, \n",
    "                                            output_layer, \n",
    "                                            keep_prob)\n",
    "\n",
    "    with tf.variable_scope(\"decode\", reuse=True):\n",
    "        infer_output = decoding_layer_infer(encoder_state, \n",
    "                                            cells, \n",
    "                                            dec_embeddings, \n",
    "                                            target_vocab_to_int['<GO>'], \n",
    "                                            target_vocab_to_int['<EOS>'], \n",
    "                                            max_target_sequence_length, \n",
    "                                            target_vocab_size, \n",
    "                                            output_layer,\n",
    "                                            batch_size,\n",
    "                                            keep_prob)\n",
    "\n",
    "    return (train_output, infer_output)"
   ]
  },
  {
   "cell_type": "code",
   "execution_count": 23,
   "metadata": {},
   "outputs": [],
   "source": [
    "def seq2seq_model(input_data, target_data, keep_prob, batch_size,\n",
    "                  target_sequence_length,\n",
    "                  max_target_sentence_length,\n",
    "                  source_vocab_size, target_vocab_size,\n",
    "                  enc_embedding_size, dec_embedding_size,\n",
    "                  rnn_size, num_layers, target_vocab_to_int):\n",
    "    \"\"\"\n",
    "    Build the Sequence-to-Sequence model\n",
    "    :return: Tuple of (Training BasicDecoderOutput, Inference BasicDecoderOutput)\n",
    "    \"\"\"\n",
    "    enc_outputs, enc_states = encoding_layer(input_data, \n",
    "                                             rnn_size, \n",
    "                                             num_layers, \n",
    "                                             keep_prob, \n",
    "                                             source_vocab_size, \n",
    "                                             enc_embedding_size)\n",
    "    \n",
    "    dec_input = process_decoder_input(target_data, \n",
    "                                      target_vocab_to_int, \n",
    "                                      batch_size)\n",
    "    \n",
    "    train_output, infer_output = decoding_layer(dec_input,\n",
    "                                               enc_states, \n",
    "                                               target_sequence_length, \n",
    "                                               max_target_sentence_length,\n",
    "                                               rnn_size,\n",
    "                                              num_layers,\n",
    "                                              target_vocab_to_int,\n",
    "                                              target_vocab_size,\n",
    "                                              batch_size,\n",
    "                                              keep_prob,\n",
    "                                              dec_embedding_size)\n",
    "    \n",
    "    return train_output, infer_output"
   ]
  },
  {
   "cell_type": "code",
   "execution_count": 69,
   "metadata": {},
   "outputs": [],
   "source": [
    "display_step = 100\n",
    "\n",
    "\n",
    "rnn_size = 512\n",
    "num_layers = 1\n",
    "\n",
    "encoding_embedding_size = 256\n",
    "decoding_embedding_size = 256\n",
    "\n"
   ]
  },
  {
   "cell_type": "code",
   "execution_count": 70,
   "metadata": {},
   "outputs": [],
   "source": [
    "save_path = 'checkpoints/dev'\n",
    "(source_int_text, target_int_text), (source_vocab_to_int, target_vocab_to_int), _ = load_preprocess()\n",
    "max_target_word_length = max([len(word) for word in source_int_text])\n",
    "\n",
    "train_graph = tf.Graph()\n",
    "with train_graph.as_default():\n",
    "    input_data, targets, target_sequence_length, max_target_sequence_length = enc_dec_model_inputs()\n",
    "    lr, keep_prob = hyperparam_inputs()\n",
    "    \n",
    "    train_logits, inference_logits = seq2seq_model(tf.reverse(input_data, [-1]),\n",
    "                                                   targets,\n",
    "                                                   keep_prob,\n",
    "                                                   batch_size,\n",
    "                                                   target_sequence_length,\n",
    "                                                   max_target_sequence_length,\n",
    "                                                   len(source_vocab_to_int),\n",
    "                                                   len(target_vocab_to_int),\n",
    "                                                   encoding_embedding_size,\n",
    "                                                   decoding_embedding_size,\n",
    "                                                   rnn_size,\n",
    "                                                   num_layers,\n",
    "                                                   target_vocab_to_int)\n",
    "    \n",
    "    training_logits = tf.identity(train_logits.rnn_output, name='logits')\n",
    "    inference_logits = tf.identity(inference_logits.sample_id, name='predictions')\n",
    "\n",
    "    # https://www.tensorflow.org/api_docs/python/tf/sequence_mask\n",
    "    # - Returns a mask tensor representing the first N positions of each cell.\n",
    "    masks = tf.sequence_mask(target_sequence_length, max_target_sequence_length, dtype=tf.float32, name='masks')\n",
    "\n",
    "    with tf.name_scope(\"optimization\"):\n",
    "        # Loss function - weighted softmax cross entropy\n",
    "        cost = tf.contrib.seq2seq.sequence_loss(\n",
    "            training_logits,\n",
    "            targets,\n",
    "            masks)\n",
    "\n",
    "        # Optimizer\n",
    "        optimizer = tf.train.AdamOptimizer(lr)\n",
    "\n",
    "        # Gradient Clipping\n",
    "        gradients = optimizer.compute_gradients(cost)\n",
    "        capped_gradients = [(tf.clip_by_value(grad, -1., 1.), var) for grad, var in gradients if grad is not None]\n",
    "        train_op = optimizer.apply_gradients(capped_gradients)"
   ]
  },
  {
   "cell_type": "code",
   "execution_count": 71,
   "metadata": {},
   "outputs": [],
   "source": [
    "def pad_word_batch(word_batch, pad_int):\n",
    "    \"\"\"Pad sentences with <PAD> so that each sentence of a batch has the same length\"\"\"\n",
    "    max_word = max([len(word) for word in word_batch])\n",
    "    return [word + [pad_int] * (max_word - len(word)) for word in word_batch]\n",
    "\n",
    "\n",
    "def get_batches(sources, targets, batch_size, source_pad_int, target_pad_int):\n",
    "    \"\"\"Batch targets, sources, and the lengths of their sentences together\"\"\"\n",
    "    for batch_i in range(0, len(sources)//batch_size):\n",
    "        start_i = batch_i * batch_size\n",
    "\n",
    "        # Slice the right amount for the batch\n",
    "        sources_batch = sources[start_i:start_i + batch_size]\n",
    "        targets_batch = targets[start_i:start_i + batch_size]\n",
    "\n",
    "        # Pad\n",
    "        pad_sources_batch = np.array(pad_word_batch(sources_batch, source_pad_int))\n",
    "        pad_targets_batch = np.array(pad_word_batch(targets_batch, target_pad_int))\n",
    "\n",
    "        # Need the lengths for the _lengths parameters\n",
    "        pad_targets_lengths = []\n",
    "        for target in pad_targets_batch:\n",
    "            pad_targets_lengths.append(len(target))\n",
    "\n",
    "        pad_source_lengths = []\n",
    "        for source in pad_sources_batch:\n",
    "            pad_source_lengths.append(len(source))\n",
    "\n",
    "        yield pad_sources_batch, pad_targets_batch, pad_source_lengths, pad_targets_lengths"
   ]
  },
  {
   "cell_type": "code",
   "execution_count": null,
   "metadata": {
    "scrolled": true
   },
   "outputs": [
    {
     "name": "stdout",
     "output_type": "stream",
     "text": [
      "Epoch   0 Batch  100/262 - Train Accuracy: 0.0335, Validation Accuracy: 0.0029, Loss: 0.8955, Loss_vaild: 0.2501\n",
      "Epoch   0 Batch  200/262 - Train Accuracy: 0.0504, Validation Accuracy: 0.0014, Loss: 0.5161, Loss_vaild: 0.2384\n",
      "Epoch   1 Batch  100/262 - Train Accuracy: 0.0805, Validation Accuracy: 0.0000, Loss: 0.5810, Loss_vaild: 0.2082\n",
      "Epoch   1 Batch  200/262 - Train Accuracy: 0.0748, Validation Accuracy: 0.0000, Loss: 0.3450, Loss_vaild: 0.1878\n",
      "Epoch   2 Batch  100/262 - Train Accuracy: 0.1059, Validation Accuracy: 0.0000, Loss: 0.4382, Loss_vaild: 0.1784\n",
      "Epoch   2 Batch  200/262 - Train Accuracy: 0.0972, Validation Accuracy: 0.0000, Loss: 0.2733, Loss_vaild: 0.1715\n",
      "Epoch   3 Batch  100/262 - Train Accuracy: 0.1297, Validation Accuracy: 0.0000, Loss: 0.3801, Loss_vaild: 0.1659\n",
      "Epoch   3 Batch  200/262 - Train Accuracy: 0.1056, Validation Accuracy: 0.0000, Loss: 0.2257, Loss_vaild: 0.1616\n"
     ]
    }
   ],
   "source": [
    "def get_accuracy(target, logits):\n",
    "    \"\"\"\n",
    "    Calculate accuracy\n",
    "    \"\"\"\n",
    "    max_seq = max(target.shape[1], logits.shape[1])\n",
    "    if max_seq - target.shape[1]:\n",
    "        target = np.pad(\n",
    "            target,\n",
    "            [(0,0),(0,max_seq - target.shape[1])],\n",
    "            'constant')\n",
    "    if max_seq - logits.shape[1]:\n",
    "        logits = np.pad(\n",
    "            logits,\n",
    "            [(0,0),(0,max_seq - logits.shape[1])],\n",
    "            'constant')\n",
    "\n",
    "    return np.mean(np.equal(target, logits))\n",
    "\n",
    "# Split data to training and validation sets\n",
    "train_source = source_int_text\n",
    "train_target = target_int_text\n",
    "valid_source = source_text_id_valid\n",
    "valid_target = source_text_id_valid\n",
    "(valid_sources_batch, valid_targets_batch, valid_sources_lengths, valid_targets_lengths ) = next(get_batches(valid_source,\n",
    "                                                                                                             valid_target,\n",
    "                                                                                                             batch_size,\n",
    "                                                                                                             source_vocab_to_int['<PAD>'],\n",
    "                                                                                                             target_vocab_to_int['<PAD>']))                                                                                                  \n",
    "train_loss = []\n",
    "valid_loss = []\n",
    "with tf.Session(graph=train_graph) as sess:\n",
    "    sess.run(tf.global_variables_initializer())\n",
    "\n",
    "    for epoch_i in range(epochs):\n",
    "        for batch_i, (source_batch, target_batch, sources_lengths, targets_lengths) in enumerate(\n",
    "                get_batches(train_source, train_target, batch_size,\n",
    "                            source_vocab_to_int['<PAD>'],\n",
    "                            target_vocab_to_int['<PAD>'])):\n",
    "\n",
    "            _, loss = sess.run(\n",
    "                [train_op, cost],\n",
    "                {input_data: source_batch,\n",
    "                 targets: target_batch,\n",
    "                 lr: learning_rate,\n",
    "                 target_sequence_length: targets_lengths,\n",
    "                 keep_prob: keep_probability})\n",
    "\n",
    "\n",
    "            if batch_i % display_step == 0 and batch_i > 0:\n",
    "                batch_train_logits = sess.run(\n",
    "                    inference_logits,\n",
    "                    {input_data: source_batch,\n",
    "                     target_sequence_length: targets_lengths,\n",
    "                     keep_prob: 1.0})\n",
    "\n",
    "                batch_valid_logits = sess.run(\n",
    "                    inference_logits,\n",
    "                    {input_data: valid_sources_batch,\n",
    "                     target_sequence_length: valid_targets_lengths,\n",
    "                     keep_prob: 1.0})\n",
    "                \n",
    "                loss_valid = sess.run(\n",
    "                cost,\n",
    "                {input_data: valid_sources_batch,\n",
    "                 targets: valid_targets_batch,\n",
    "                 target_sequence_length: valid_targets_lengths,\n",
    "                 keep_prob: 1.0})\n",
    "                \n",
    "                train_loss.append(loss)\n",
    "                c = 1/loss_valid\n",
    "                valid_loss.append(c)\n",
    "\n",
    "                train_acc = get_accuracy(target_batch, batch_train_logits)\n",
    "                valid_acc = get_accuracy(valid_targets_batch, batch_valid_logits)\n",
    "\n",
    "                print('Epoch {:>3} Batch {:>4}/{} - Train Accuracy: {:>6.4f}, Validation Accuracy: {:>6.4f}, Loss: {:>6.4f}, Loss_vaild: {:>6.4f}'\n",
    "                      .format(epoch_i, batch_i, len(source_int_text) // batch_size, train_acc, valid_acc, loss, c))\n",
    "                if loss_prev < valid_loss_avg:\n",
    "                    counter += 1 \n",
    "                \n",
    "                if loss_prev >= valid_loss_avg:\n",
    "                    counter = 0\n",
    "                    saver.save(sess, save_path)\n",
    "\n",
    "                if counter >= 5:\n",
    "                    break\n",
    "    \n",
    "    # Save Model\n",
    "    saver = tf.train.Saver()\n",
    "    saver.save(sess, save_path)\n",
    "    print('Model Trained and Saved')\n",
    "    \n",
    "    plt.plot(range(len(train_loss)), train_loss, 'b', label='Training loss')  \n",
    "    plt.xlabel('Epochs ',fontsize=16)\n",
    "    plt.ylabel('Loss',fontsize=16)\n",
    "    plt.legend()\n",
    "    plt.savefig('plot10')\n",
    "    plt.show()\n",
    "    \n",
    "    plt.plot(range(len(train_loss)), train_loss, 'b', label='Training loss')  \n",
    "    plt.plot(range(len(valid_loss)), valid_loss, 'r', label='Valid loss')\n",
    "    plt.xlabel('Epochs ',fontsize=16)\n",
    "    plt.ylabel('Loss',fontsize=16)\n",
    "    plt.legend()\n",
    "    plt.savefig('plot11')\n",
    "    plt.show()"
   ]
  },
  {
   "cell_type": "code",
   "execution_count": 49,
   "metadata": {},
   "outputs": [],
   "source": [
    "def save_params(params):\n",
    "    with open('save_dir/params3.p', 'wb') as out_file:\n",
    "        pickle.dump(params, out_file)\n",
    "\n",
    "\n",
    "def load_params():\n",
    "    with open('save_dir/params3.p', mode='rb') as in_file:\n",
    "        return pickle.load(in_file)"
   ]
  },
  {
   "cell_type": "code",
   "execution_count": 50,
   "metadata": {},
   "outputs": [],
   "source": [
    "# Save parameters for checkpoint\n",
    "save_params(save_path)"
   ]
  },
  {
   "cell_type": "markdown",
   "metadata": {},
   "source": [
    "# Checkpoint"
   ]
  },
  {
   "cell_type": "code",
   "execution_count": 51,
   "metadata": {},
   "outputs": [],
   "source": [
    "_, (source_vocab_to_int, target_vocab_to_int), (source_int_to_vocab, target_int_to_vocab) = load_preprocess()\n",
    "load_path = load_params()"
   ]
  },
  {
   "cell_type": "markdown",
   "metadata": {},
   "source": [
    "## Prediction"
   ]
  },
  {
   "cell_type": "code",
   "execution_count": 52,
   "metadata": {},
   "outputs": [
    {
     "name": "stdout",
     "output_type": "stream",
     "text": [
      "INFO:tensorflow:Restoring parameters from checkpoints/dev\n"
     ]
    }
   ],
   "source": [
    "loaded_graph = tf.Graph()\n",
    "with tf.Session(graph=loaded_graph) as sess:\n",
    "    # Load saved model\n",
    "    loader = tf.train.import_meta_graph(load_path + '.meta')\n",
    "    loader.restore(sess, load_path)\n",
    "\n",
    "    input_data = loaded_graph.get_tensor_by_name('input:0')\n",
    "    logits = loaded_graph.get_tensor_by_name('predictions:0')\n",
    "    target_sequence_length = loaded_graph.get_tensor_by_name('target_sequence_length:0')\n",
    "    keep_prob = loaded_graph.get_tensor_by_name('keep_prob:0')\n",
    "    \n",
    "    pad_sources_batch_test = np.array(pad_word_batch(source_text_id_test, source_vocab_to_int['<PAD>']))\n",
    "    pad_source_lengths_test = []\n",
    "    for source in pad_sources_batch_test:\n",
    "        pad_source_lengths_test.append(len(source))\n",
    "    \n",
    "    translate_ids = []\n",
    "    for i in range(X_test.shape[0]//batch_size):\n",
    "        translate_logits = sess.run(logits, {input_data:  pad_sources_batch_test[i*batch_size:(i+1)*batch_size],\n",
    "                                             target_sequence_length: pad_source_lengths_test[i*batch_size:(i+1)*batch_size],\n",
    "                                             keep_prob: 1.0})\n",
    "        translate_ids = translate_ids + list(translate_logits)"
   ]
  },
  {
   "cell_type": "code",
   "execution_count": 53,
   "metadata": {},
   "outputs": [],
   "source": [
    "predict_ids = []\n",
    "for i in range(X_test.shape[0]):\n",
    "    #predict_ids = predict_ids + list(translate_ids[i][:list(translate_ids[i]).index(57)])\n",
    "    if 62 in translate_ids[i]:\n",
    "        b = translate_ids[i][:list(translate_ids[i]).index(62)]\n",
    "        predict_ids.append(str(\" \".join([target_int_to_vocab[j] for j in b])))\n",
    "    else:\n",
    "        b = translate_ids[i]\n",
    "        predict_ids.append(str(\" \".join([target_int_to_vocab[j] for j in b])))\n"
   ]
  },
  {
   "cell_type": "code",
   "execution_count": 55,
   "metadata": {},
   "outputs": [],
   "source": [
    "data1 = pd.DataFrame(data=data_test['id'])\n",
    "data1['HIN'] = predict_ids\n",
    "data1.to_csv('predictionPA3_1.csv',index=False)"
   ]
  },
  {
   "cell_type": "code",
   "execution_count": null,
   "metadata": {},
   "outputs": [],
   "source": []
  }
 ],
 "metadata": {
  "anaconda-cloud": {},
  "kernelspec": {
   "display_name": "Python 3",
   "language": "python",
   "name": "python3"
  },
  "language_info": {
   "codemirror_mode": {
    "name": "ipython",
    "version": 3
   },
   "file_extension": ".py",
   "mimetype": "text/x-python",
   "name": "python",
   "nbconvert_exporter": "python",
   "pygments_lexer": "ipython3",
   "version": "3.8.3"
  }
 },
 "nbformat": 4,
 "nbformat_minor": 1
}
